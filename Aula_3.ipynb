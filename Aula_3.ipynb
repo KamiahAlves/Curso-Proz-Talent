{
  "nbformat": 4,
  "nbformat_minor": 0,
  "metadata": {
    "colab": {
      "provenance": [],
      "include_colab_link": true
    },
    "kernelspec": {
      "name": "python3",
      "display_name": "Python 3"
    },
    "language_info": {
      "name": "python"
    }
  },
  "cells": [
    {
      "cell_type": "markdown",
      "metadata": {
        "id": "view-in-github",
        "colab_type": "text"
      },
      "source": [
        "<a href=\"https://colab.research.google.com/github/KamiahAlves/Curso-Proz-Talent/blob/main/Aula_3.ipynb\" target=\"_parent\"><img src=\"https://colab.research.google.com/assets/colab-badge.svg\" alt=\"Open In Colab\"/></a>"
      ]
    },
    {
      "cell_type": "markdown",
      "source": [
        "\n",
        "###AULA - 3\n"
      ],
      "metadata": {
        "id": "Lw9k4A1Gc2iX"
      }
    },
    {
      "cell_type": "code",
      "source": [
        "soma = 4 + 9"
      ],
      "metadata": {
        "id": "0obTMKR0dffr"
      },
      "execution_count": null,
      "outputs": []
    },
    {
      "cell_type": "markdown",
      "source": [],
      "metadata": {
        "id": "Whwky_oCeU0D"
      }
    },
    {
      "cell_type": "markdown",
      "source": [
        "1 - Parenteses\n",
        "2 - Multiplicação/Divisão\n",
        "3 - Soma/Substração"
      ],
      "metadata": {
        "id": "VVQuwt2ee1qy"
      }
    },
    {
      "cell_type": "code",
      "source": [
        "print(1 + 2 * 3 - 1) # 2 * 3 + 1 - 1 -> 6 + 1 - 1 -> 6\n",
        "print((1+2)*3) # (1+2)*3 -> 3*3"
      ],
      "metadata": {
        "colab": {
          "base_uri": "https://localhost:8080/"
        },
        "id": "UCWSqhrNeJiq",
        "outputId": "a83aa1fc-07fc-47dd-cc0b-1c435429afd0"
      },
      "execution_count": null,
      "outputs": [
        {
          "output_type": "stream",
          "name": "stdout",
          "text": [
            "6\n",
            "9\n"
          ]
        }
      ]
    },
    {
      "cell_type": "code",
      "source": [
        "print(soma)"
      ],
      "metadata": {
        "colab": {
          "base_uri": "https://localhost:8080/"
        },
        "id": "z03UQ7RPdyF7",
        "outputId": "78cbc53d-2068-4bdd-9b13-231552abf86c"
      },
      "execution_count": null,
      "outputs": [
        {
          "output_type": "stream",
          "name": "stdout",
          "text": [
            "13\n"
          ]
        }
      ]
    },
    {
      "cell_type": "code",
      "execution_count": null,
      "metadata": {
        "colab": {
          "base_uri": "https://localhost:8080/"
        },
        "id": "Qr0BhQtscWgf",
        "outputId": "55aecbaf-3b31-4d49-e743-c8b5fdcacb61"
      },
      "outputs": [
        {
          "output_type": "stream",
          "name": "stdout",
          "text": [
            "Hello World\n"
          ]
        }
      ],
      "source": [
        "print(\"Hello World\")"
      ]
    },
    {
      "cell_type": "markdown",
      "source": [
        "Comparação"
      ],
      "metadata": {
        "id": "bW6770R1f30p"
      }
    },
    {
      "cell_type": "code",
      "source": [
        "X = 2\n",
        "Y = 2"
      ],
      "metadata": {
        "id": "6ZVUusHVfYVn"
      },
      "execution_count": null,
      "outputs": []
    },
    {
      "cell_type": "code",
      "source": [
        "X >= Y"
      ],
      "metadata": {
        "colab": {
          "base_uri": "https://localhost:8080/"
        },
        "id": "y4cGbGXsgP6k",
        "outputId": "e0e6ef70-b887-4267-ff9c-de639ff8f739"
      },
      "execution_count": null,
      "outputs": [
        {
          "output_type": "execute_result",
          "data": {
            "text/plain": [
              "True"
            ]
          },
          "metadata": {},
          "execution_count": 15
        }
      ]
    },
    {
      "cell_type": "code",
      "source": [
        "X <= Y"
      ],
      "metadata": {
        "colab": {
          "base_uri": "https://localhost:8080/"
        },
        "id": "XnXgmHF0f2fX",
        "outputId": "e441ea27-ad71-4f61-aeb9-bf7510fa722b"
      },
      "execution_count": null,
      "outputs": [
        {
          "output_type": "execute_result",
          "data": {
            "text/plain": [
              "True"
            ]
          },
          "metadata": {},
          "execution_count": 16
        }
      ]
    },
    {
      "cell_type": "code",
      "source": [
        "\"Lucas\" == \"lucas\""
      ],
      "metadata": {
        "colab": {
          "base_uri": "https://localhost:8080/"
        },
        "id": "EzhH-7BJg9ks",
        "outputId": "6414e6b6-ca1c-4b06-ccc6-0ff3ff3c9e6c"
      },
      "execution_count": null,
      "outputs": [
        {
          "output_type": "execute_result",
          "data": {
            "text/plain": [
              "False"
            ]
          },
          "metadata": {},
          "execution_count": 18
        }
      ]
    },
    {
      "cell_type": "markdown",
      "source": [
        "Diferente"
      ],
      "metadata": {
        "id": "OIQOVNQFmw73"
      }
    },
    {
      "cell_type": "code",
      "source": [
        "10 != 4"
      ],
      "metadata": {
        "colab": {
          "base_uri": "https://localhost:8080/"
        },
        "id": "B0ohLBv0hr2R",
        "outputId": "01baaa0c-bc57-4781-9362-4a639c9305f3"
      },
      "execution_count": null,
      "outputs": [
        {
          "output_type": "execute_result",
          "data": {
            "text/plain": [
              "True"
            ]
          },
          "metadata": {},
          "execution_count": 19
        }
      ]
    },
    {
      "cell_type": "code",
      "source": [
        "10 > 5 and 7 > 2"
      ],
      "metadata": {
        "colab": {
          "base_uri": "https://localhost:8080/"
        },
        "id": "IL5U4a7OiC9q",
        "outputId": "aacd40a5-58f7-49b2-8da5-16960cf91b52"
      },
      "execution_count": null,
      "outputs": [
        {
          "output_type": "execute_result",
          "data": {
            "text/plain": [
              "True"
            ]
          },
          "metadata": {},
          "execution_count": 20
        }
      ]
    },
    {
      "cell_type": "code",
      "source": [
        "10 > 5 and 0 > 100"
      ],
      "metadata": {
        "colab": {
          "base_uri": "https://localhost:8080/"
        },
        "id": "HSu08DGMimyl",
        "outputId": "4b3ee941-701f-49db-991a-a0c73f31905e"
      },
      "execution_count": null,
      "outputs": [
        {
          "output_type": "execute_result",
          "data": {
            "text/plain": [
              "False"
            ]
          },
          "metadata": {},
          "execution_count": 21
        }
      ]
    },
    {
      "cell_type": "code",
      "source": [
        "100 > 3 and 100 < 9 and 6 == 6"
      ],
      "metadata": {
        "colab": {
          "base_uri": "https://localhost:8080/"
        },
        "id": "cVPohVd7jBPp",
        "outputId": "67f099cd-4ac6-44ee-a240-fde2d4318e5c"
      },
      "execution_count": null,
      "outputs": [
        {
          "output_type": "execute_result",
          "data": {
            "text/plain": [
              "False"
            ]
          },
          "metadata": {},
          "execution_count": 22
        }
      ]
    },
    {
      "cell_type": "code",
      "source": [
        "10 < 5 or 100 > 10"
      ],
      "metadata": {
        "colab": {
          "base_uri": "https://localhost:8080/"
        },
        "id": "OpNqAW0wjeHJ",
        "outputId": "90f573e1-5e09-4dfb-fd98-d5f19a5034d5"
      },
      "execution_count": null,
      "outputs": [
        {
          "output_type": "execute_result",
          "data": {
            "text/plain": [
              "True"
            ]
          },
          "metadata": {},
          "execution_count": 24
        }
      ]
    },
    {
      "cell_type": "code",
      "source": [
        "print (10 < 5 or 100 > 10)\n",
        "print (10 < 5 and 100 > 10)"
      ],
      "metadata": {
        "colab": {
          "base_uri": "https://localhost:8080/"
        },
        "id": "Zf_nIaGtlHP4",
        "outputId": "10108b34-aa95-499e-a0df-97059d4970ef"
      },
      "execution_count": null,
      "outputs": [
        {
          "output_type": "stream",
          "name": "stdout",
          "text": [
            "True\n",
            "False\n"
          ]
        }
      ]
    },
    {
      "cell_type": "markdown",
      "source": [
        "Condicionais"
      ],
      "metadata": {
        "id": "qTzNdXBEmb8J"
      }
    },
    {
      "cell_type": "code",
      "source": [
        "if (100 < 5):\n",
        "  print(\"Verdade 100 é maior do que o 5\")\n",
        "print(\"Não faço parte do if\")"
      ],
      "metadata": {
        "id": "b3mcwuajmbtX"
      },
      "execution_count": null,
      "outputs": []
    },
    {
      "cell_type": "code",
      "source": [
        "Nome = \"Lucas\"\n",
        "if Nome == \"lucas\":\n",
        "  print(\"Entrei no bloco do if\")\n",
        "print(\"Já não faço parte do if\")"
      ],
      "metadata": {
        "id": "k0L06bzepVw-"
      },
      "execution_count": null,
      "outputs": []
    },
    {
      "cell_type": "code",
      "source": [
        "if 10 > 5 and 100 < 0:\n",
        "  print(\"Não vou entrar aqui\")\n",
        "if 10 > 5 or 100 < 0:\n",
        "  print(\"Entrei\")"
      ],
      "metadata": {
        "id": "Ic1mxsinp6sC"
      },
      "execution_count": null,
      "outputs": []
    },
    {
      "cell_type": "code",
      "source": [
        "if \"bianca\" == \"Bianca\":\n",
        "  print(\"A condição é verdadeira\")\n",
        "else:\n",
        "  print(\"A condição é falsa\")\n",
        "print(\"Eu rodo independente do if e do else\")"
      ],
      "metadata": {
        "id": "5BSnhpNJqvT4"
      },
      "execution_count": null,
      "outputs": []
    },
    {
      "cell_type": "code",
      "source": [
        "idade = input(\"Informe a sua idade: \")\n",
        "idade = int (idade)\n",
        "\n",
        "if idade >= 18:\n",
        "  print(\"Você pode tirar carteira de motorista\")\n",
        "else:\n",
        "  print(\"Você não pode tirar carteira\")"
      ],
      "metadata": {
        "colab": {
          "base_uri": "https://localhost:8080/"
        },
        "id": "x5mmDchksGlx",
        "outputId": "30a56257-85df-481b-f3a8-68a0cf645870"
      },
      "execution_count": null,
      "outputs": [
        {
          "output_type": "stream",
          "name": "stdout",
          "text": [
            "Informe a sua idade: 18\n",
            "Você pode tirar carteira de motorista\n"
          ]
        }
      ]
    },
    {
      "cell_type": "code",
      "source": [
        "if 8 < 3:\n",
        "  print(\"Isso é verdadeiro\")\n",
        "elif 9 == 3:\n",
        "  print(\"Verdade, 9 é maior ou igual a 3\")\n",
        "else:\n",
        "  print(\"Isso é falso\")"
      ],
      "metadata": {
        "id": "g9pfpSe5uZIt"
      },
      "execution_count": null,
      "outputs": []
    },
    {
      "cell_type": "code",
      "source": [
        "idade = input(\"Informe a sua idade: \")\n",
        "idade = int (idade)\n",
        "\n",
        "if idade < 18:\n",
        "  print(\"Você é muito jovem para dirigir\")\n",
        "  print(\"Espere mais um pouco!\")\n",
        "elif idade < 35:\n",
        "  print(\"Você já pode tirar carteira\")\n",
        "  print(\"Muito bom!\")\n",
        "else:\n",
        "  print(\"Puxa vida você está enrolado\")\n",
        "  print(\"Demorou muito para tirar carteira\")\n",
        "print(\"Fim do programa, teste novamente com outros valores\")"
      ],
      "metadata": {
        "id": "kEncyOLxvlaD"
      },
      "execution_count": null,
      "outputs": []
    },
    {
      "cell_type": "markdown",
      "source": [
        "Repetição"
      ],
      "metadata": {
        "id": "uNq7eBjWxGGB"
      }
    },
    {
      "cell_type": "code",
      "source": [
        "print(\"Um elefante incomoda muita gente...\")\n",
        "print(\"Um elefante incomoda muita gente...\")\n",
        "print(\"Um elefante incomoda muita gente...\")\n",
        "print(\"Um elefante incomoda muita gente...\")\n",
        "print(\"Um elefante incomoda muita gente...\")\n",
        "print(\"Um elefante incomoda muita gente...\")\n",
        "print(\"Um elefante incomoda muita gente...\")"
      ],
      "metadata": {
        "id": "8SVR7OaexE3i"
      },
      "execution_count": null,
      "outputs": []
    },
    {
      "cell_type": "code",
      "source": [
        "Contador = 1\n",
        "\n",
        "while Contador < 5:\n",
        "  print(\"Um elefante incomoda muita gente...\")\n",
        "\n",
        "  Contador += 1\n",
        "print(\"Aqui está fora do laço\")"
      ],
      "metadata": {
        "id": "2fSTO8qqxgB0"
      },
      "execution_count": null,
      "outputs": []
    },
    {
      "cell_type": "code",
      "source": [
        "print(\"Contagem regressiva\")\n",
        "\n",
        "contadorBomba = 3\n",
        "\n",
        "while contadorBomba > 0:\n",
        "  print(contadorBomba)\n",
        " # contadorBomba = contadorBomba - 1\n",
        "  contadorBomba -= 1\n",
        "print(\"BOOOOMMMMMM!\")"
      ],
      "metadata": {
        "id": "4iHVe33ryotu"
      },
      "execution_count": null,
      "outputs": []
    },
    {
      "cell_type": "code",
      "source": [
        "for i in range(1,21,2):\n",
        "  print(i)"
      ],
      "metadata": {
        "id": "u1TxB3S9z700"
      },
      "execution_count": null,
      "outputs": []
    }
  ]
}